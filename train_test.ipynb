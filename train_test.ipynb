{
 "cells": [
  {
   "cell_type": "markdown",
   "id": "c66cf53b-fbe8-4685-bcfb-014291846e12",
   "metadata": {},
   "source": [
    "# To train the Object detection Model:"
   ]
  },
  {
   "cell_type": "code",
   "execution_count": 1,
   "id": "3704b216-5a99-4fcd-8385-5acd44a2c47f",
   "metadata": {},
   "outputs": [
    {
     "name": "stderr",
     "output_type": "stream",
     "text": [
      "\u001b[34m\u001b[1myolo/engine/trainer: \u001b[0mtask=detect, mode=train, model=yolov8n.yaml, data=data.yaml, epochs=1, patience=50, batch=16, imgsz=640, save=True, cache=False, device=None, workers=8, project=None, name=None, exist_ok=False, pretrained=False, optimizer=SGD, verbose=False, seed=0, deterministic=True, single_cls=False, image_weights=False, rect=False, cos_lr=False, close_mosaic=10, resume=False, overlap_mask=True, mask_ratio=4, dropout=False, val=True, save_json=False, save_hybrid=False, conf=0.001, iou=0.7, max_det=300, half=True, dnn=False, plots=True, source=ultralytics/assets/, show=False, save_txt=False, save_conf=False, save_crop=False, hide_labels=False, hide_conf=False, vid_stride=1, line_thickness=3, visualize=False, augment=False, agnostic_nms=False, retina_masks=False, format=torchscript, keras=False, optimize=False, int8=False, dynamic=False, simplify=False, opset=17, workspace=4, nms=False, lr0=0.01, lrf=0.01, momentum=0.937, weight_decay=0.001, warmup_epochs=3.0, warmup_momentum=0.8, warmup_bias_lr=0.1, box=7.5, cls=0.5, dfl=1.5, fl_gamma=0.0, label_smoothing=0.0, nbs=64, hsv_h=0.015, hsv_s=0.7, hsv_v=0.4, degrees=0.0, translate=0.1, scale=0.5, shear=0.0, perspective=0.0, flipud=0.0, fliplr=0.5, mosaic=1.0, mixup=0.0, copy_paste=0.0, hydra={'output_subdir': None, 'run': {'dir': '.'}}, v5loader=True, save_dir=runs/detect/train\n",
      "Ultralytics YOLOvv8.2.41-0-ge30b7c24 🚀 Python-3.9.18 torch-2.3.1+cu121 CUDA:0 (NVIDIA GeForce RTX 3060 Laptop GPU, 5938MiB)\n",
      "2024-07-19 15:29:46.641214: I tensorflow/core/util/port.cc:113] oneDNN custom operations are on. You may see slightly different numerical results due to floating-point round-off errors from different computation orders. To turn them off, set the environment variable `TF_ENABLE_ONEDNN_OPTS=0`.\n",
      "2024-07-19 15:29:47.109321: E external/local_xla/xla/stream_executor/cuda/cuda_dnn.cc:9261] Unable to register cuDNN factory: Attempting to register factory for plugin cuDNN when one has already been registered\n",
      "2024-07-19 15:29:47.109519: E external/local_xla/xla/stream_executor/cuda/cuda_fft.cc:607] Unable to register cuFFT factory: Attempting to register factory for plugin cuFFT when one has already been registered\n",
      "2024-07-19 15:29:47.168136: E external/local_xla/xla/stream_executor/cuda/cuda_blas.cc:1515] Unable to register cuBLAS factory: Attempting to register factory for plugin cuBLAS when one has already been registered\n",
      "2024-07-19 15:29:47.292924: I tensorflow/core/platform/cpu_feature_guard.cc:182] This TensorFlow binary is optimized to use available CPU instructions in performance-critical operations.\n",
      "To enable the following instructions: AVX2 AVX_VNNI FMA, in other operations, rebuild TensorFlow with the appropriate compiler flags.\n",
      "2024-07-19 15:29:49.913471: W tensorflow/compiler/tf2tensorrt/utils/py_utils.cc:38] TF-TRT Warning: Could not find TensorRT\n",
      "Overriding model.yaml nc=80 with nc=1\n",
      "\n",
      "                   from  n    params  module                                       arguments                     \n",
      "  0                  -1  1       464  ultralytics.nn.modules.Conv                  [3, 16, 3, 2]                 \n",
      "  1                  -1  1      4672  ultralytics.nn.modules.Conv                  [16, 32, 3, 2]                \n",
      "  2                  -1  1      7360  ultralytics.nn.modules.C2f                   [32, 32, 1, True]             \n",
      "  3                  -1  1     18560  ultralytics.nn.modules.Conv                  [32, 64, 3, 2]                \n",
      "  4                  -1  2     49664  ultralytics.nn.modules.C2f                   [64, 64, 2, True]             \n",
      "  5                  -1  1     73984  ultralytics.nn.modules.Conv                  [64, 128, 3, 2]               \n",
      "  6                  -1  2    197632  ultralytics.nn.modules.C2f                   [128, 128, 2, True]           \n",
      "  7                  -1  1    295424  ultralytics.nn.modules.Conv                  [128, 256, 3, 2]              \n",
      "  8                  -1  1    460288  ultralytics.nn.modules.C2f                   [256, 256, 1, True]           \n",
      "  9                  -1  1    164608  ultralytics.nn.modules.SPPF                  [256, 256, 5]                 \n",
      " 10                  -1  1         0  torch.nn.modules.upsampling.Upsample         [None, 2, 'nearest']          \n",
      " 11             [-1, 6]  1         0  ultralytics.nn.modules.Concat                [1]                           \n",
      " 12                  -1  1    148224  ultralytics.nn.modules.C2f                   [384, 128, 1]                 \n",
      " 13                  -1  1         0  torch.nn.modules.upsampling.Upsample         [None, 2, 'nearest']          \n",
      " 14             [-1, 4]  1         0  ultralytics.nn.modules.Concat                [1]                           \n",
      " 15                  -1  1     37248  ultralytics.nn.modules.C2f                   [192, 64, 1]                  \n",
      " 16                  -1  1     36992  ultralytics.nn.modules.Conv                  [64, 64, 3, 2]                \n",
      " 17            [-1, 12]  1         0  ultralytics.nn.modules.Concat                [1]                           \n",
      " 18                  -1  1    123648  ultralytics.nn.modules.C2f                   [192, 128, 1]                 \n",
      " 19                  -1  1    147712  ultralytics.nn.modules.Conv                  [128, 128, 3, 2]              \n",
      " 20             [-1, 9]  1         0  ultralytics.nn.modules.Concat                [1]                           \n",
      " 21                  -1  1    493056  ultralytics.nn.modules.C2f                   [384, 256, 1]                 \n",
      " 22        [15, 18, 21]  1    751507  ultralytics.nn.modules.Detect                [1, [64, 128, 256]]           \n",
      "Model summary: 225 layers, 3011043 parameters, 3011027 gradients, 8.2 GFLOPs\n",
      "\n",
      "Transferred 319/355 items from pretrained weights\n",
      "\u001b[34m\u001b[1moptimizer:\u001b[0m SGD(lr=0.01) with parameter groups 57 weight(decay=0.0), 64 weight(decay=0.001), 63 bias\n",
      "\u001b[34m\u001b[1mtrain: \u001b[0mScanning /home/c/Automatic-Number-Plate-Recognition--ANPR-/dataset/train/labels.cache... 214 images, 0 backgrounds, 0 corrupt: 100%|██████████| 214/214 [00:00<?, ?it/s]\n",
      "\u001b[34m\u001b[1mval: \u001b[0mScanning /home/c/Automatic-Number-Plate-Recognition--ANPR-/dataset/valid/labels.cache... 61 images, 0 backgrounds, 0 corrupt: 100%|██████████| 61/61 [00:00<?, ?it/s]\n",
      "Image sizes 640 train, 640 val\n",
      "Using 8 dataloader workers\n",
      "Logging results to \u001b[1mruns/detect/train\u001b[0m\n",
      "Starting training for 1 epochs...\n",
      "\n",
      "      Epoch    GPU_mem   box_loss   cls_loss   dfl_loss  Instances       Size\n",
      "        1/1      2.22G      1.666      4.162      1.509         10        640: 100%|██████████| 14/14 [00:12<00:00,  1.16it/s]\n",
      "                 Class     Images  Instances      Box(P          R      mAP50  mAP50-95): 100%|██████████| 2/2 [00:03<00:00,  1.54s/it]\n",
      "                   all         61         65     0.0023      0.646      0.042     0.0178\n",
      "\n",
      "1 epochs completed in 0.006 hours.\n",
      "Optimizer stripped from runs/detect/train/weights/last.pt, 6.3MB\n",
      "Optimizer stripped from runs/detect/train/weights/best.pt, 6.3MB\n",
      "\n",
      "Validating runs/detect/train/weights/best.pt...\n",
      "Ultralytics YOLOvv8.2.41-0-ge30b7c24 🚀 Python-3.9.18 torch-2.3.1+cu121 CUDA:0 (NVIDIA GeForce RTX 3060 Laptop GPU, 5938MiB)\n",
      "Fusing layers... \n",
      "Model summary: 168 layers, 3005843 parameters, 0 gradients, 8.1 GFLOPs\n",
      "                 Class     Images  Instances      Box(P          R      mAP50  mAP50-95): 100%|██████████| 2/2 [00:02<00:00,  1.44s/it]\n",
      "                   all         61         65     0.0023      0.646     0.0438     0.0186\n",
      "Speed: 0.2ms pre-process, 2.7ms inference, 0.0ms loss, 18.1ms post-process per image\n",
      "Saving runs/detect/train/predictions.json...\n",
      "Results saved to \u001b[1mruns/detect/train\u001b[0m\n"
     ]
    }
   ],
   "source": [
    "from ultralytics import YOLO\n",
    "\n",
    "# # Load a model\n",
    "model = YOLO('yolov8n.pt')  # load a pretrained model (recommended for training)\n",
    "\n",
    "# # Train the model with 2 GPUs\n",
    "results = model.train(data='data.yaml', epochs=1, imgsz=640) \n"
   ]
  },
  {
   "cell_type": "markdown",
   "id": "b174b770-8506-43a4-9371-1bf6d7e36445",
   "metadata": {},
   "source": [
    "# Test Object Detection Model:"
   ]
  },
  {
   "cell_type": "code",
   "execution_count": 24,
   "id": "42e1de07-310a-403d-967c-c68c8ecdaba1",
   "metadata": {},
   "outputs": [
    {
     "name": "stderr",
     "output_type": "stream",
     "text": [
      "Ultralytics YOLOv8.0.3 🚀 Python-3.9.18 torch-2.3.1+cu121 CUDA:0 (NVIDIA GeForce RTX 3060 Laptop GPU, 5938MiB)\n",
      "Fusing layers... \n",
      "Model summary: 168 layers, 3005843 parameters, 0 gradients, 8.1 GFLOPs\n",
      "image 1/1 /home/c/Automatic-Number-Plate-Recognition--ANPR-/Test_Still_4.jpeg: 256x320 254.0ms\n",
      "Speed: 2.7ms pre-process, 254.0ms inference, 3.4ms postprocess per image at shape (1, 3, 320, 320)\n",
      "Results saved to \u001b[1mruns/detect/predict7\u001b[0m\n"
     ]
    },
    {
     "data": {
      "text/plain": [
       "[tensor([], device='cuda:0', size=(0, 6))]"
      ]
     },
     "execution_count": 24,
     "metadata": {},
     "output_type": "execute_result"
    }
   ],
   "source": [
    "from ultralytics import YOLO\n",
    "\n",
    "# Load a pretrained YOLOv8n model\n",
    "model = YOLO('/weights/best.pt')\n",
    "\n",
    "# Run inference on 'bus.jpg' with arguments\n",
    "model.predict('Test_Still_4.jpeg', save=True, imgsz=320, conf=0.2)\n"
   ]
  },
  {
   "cell_type": "markdown",
   "id": "a96e4c4b-d2e2-40ce-ac20-cbdaf13ee58b",
   "metadata": {},
   "source": [
    "# Recognize License plate after Detecting  using easy-ocr"
   ]
  },
  {
   "cell_type": "code",
   "execution_count": 4,
   "id": "ca93fe22-55e5-4624-853e-f87d2933eb91",
   "metadata": {},
   "outputs": [
    {
     "name": "stdout",
     "output_type": "stream",
     "text": [
      "Collecting easyocr\n",
      "  Downloading easyocr-1.7.1-py3-none-any.whl.metadata (11 kB)\n",
      "Requirement already satisfied: torch in /home/c/anaconda3/envs/tf/lib/python3.9/site-packages (from easyocr) (2.3.1)\n",
      "Requirement already satisfied: torchvision>=0.5 in /home/c/anaconda3/envs/tf/lib/python3.9/site-packages (from easyocr) (0.18.1)\n",
      "Collecting opencv-python-headless (from easyocr)\n",
      "  Downloading opencv_python_headless-4.10.0.82-cp37-abi3-manylinux_2_17_x86_64.manylinux2014_x86_64.whl.metadata (20 kB)\n",
      "Requirement already satisfied: scipy in /home/c/anaconda3/envs/tf/lib/python3.9/site-packages (from easyocr) (1.13.1)\n",
      "Requirement already satisfied: numpy in /home/c/anaconda3/envs/tf/lib/python3.9/site-packages (from easyocr) (1.26.4)\n",
      "Requirement already satisfied: Pillow in /home/c/anaconda3/envs/tf/lib/python3.9/site-packages (from easyocr) (10.2.0)\n",
      "Collecting scikit-image (from easyocr)\n",
      "  Downloading scikit_image-0.22.0-cp39-cp39-manylinux_2_17_x86_64.manylinux2014_x86_64.whl.metadata (13 kB)\n",
      "Collecting python-bidi (from easyocr)\n",
      "  Downloading python_bidi-0.4.2-py2.py3-none-any.whl.metadata (4.6 kB)\n",
      "Requirement already satisfied: PyYAML in /home/c/anaconda3/envs/tf/lib/python3.9/site-packages (from easyocr) (6.0.1)\n",
      "Collecting Shapely (from easyocr)\n",
      "  Downloading shapely-2.0.4-cp39-cp39-manylinux_2_17_x86_64.manylinux2014_x86_64.whl.metadata (7.0 kB)\n",
      "Collecting pyclipper (from easyocr)\n",
      "  Downloading pyclipper-1.3.0.post5-cp39-cp39-manylinux_2_5_x86_64.manylinux1_x86_64.whl.metadata (9.0 kB)\n",
      "Collecting ninja (from easyocr)\n",
      "  Downloading ninja-1.11.1.1-py2.py3-none-manylinux1_x86_64.manylinux_2_5_x86_64.whl.metadata (5.3 kB)\n",
      "Requirement already satisfied: filelock in /home/c/anaconda3/envs/tf/lib/python3.9/site-packages (from torch->easyocr) (3.14.0)\n",
      "Requirement already satisfied: typing-extensions>=4.8.0 in /home/c/anaconda3/envs/tf/lib/python3.9/site-packages (from torch->easyocr) (4.9.0)\n",
      "Requirement already satisfied: sympy in /home/c/anaconda3/envs/tf/lib/python3.9/site-packages (from torch->easyocr) (1.12.1)\n",
      "Requirement already satisfied: networkx in /home/c/anaconda3/envs/tf/lib/python3.9/site-packages (from torch->easyocr) (3.2.1)\n",
      "Requirement already satisfied: jinja2 in /home/c/anaconda3/envs/tf/lib/python3.9/site-packages (from torch->easyocr) (3.1.3)\n",
      "Requirement already satisfied: fsspec in /home/c/anaconda3/envs/tf/lib/python3.9/site-packages (from torch->easyocr) (2024.2.0)\n",
      "Requirement already satisfied: nvidia-cuda-nvrtc-cu12==12.1.105 in /home/c/anaconda3/envs/tf/lib/python3.9/site-packages (from torch->easyocr) (12.1.105)\n",
      "Requirement already satisfied: nvidia-cuda-runtime-cu12==12.1.105 in /home/c/anaconda3/envs/tf/lib/python3.9/site-packages (from torch->easyocr) (12.1.105)\n",
      "Requirement already satisfied: nvidia-cuda-cupti-cu12==12.1.105 in /home/c/anaconda3/envs/tf/lib/python3.9/site-packages (from torch->easyocr) (12.1.105)\n",
      "Requirement already satisfied: nvidia-cudnn-cu12==8.9.2.26 in /home/c/anaconda3/envs/tf/lib/python3.9/site-packages (from torch->easyocr) (8.9.2.26)\n",
      "Requirement already satisfied: nvidia-cublas-cu12==12.1.3.1 in /home/c/anaconda3/envs/tf/lib/python3.9/site-packages (from torch->easyocr) (12.1.3.1)\n",
      "Requirement already satisfied: nvidia-cufft-cu12==11.0.2.54 in /home/c/anaconda3/envs/tf/lib/python3.9/site-packages (from torch->easyocr) (11.0.2.54)\n",
      "Requirement already satisfied: nvidia-curand-cu12==10.3.2.106 in /home/c/anaconda3/envs/tf/lib/python3.9/site-packages (from torch->easyocr) (10.3.2.106)\n",
      "Requirement already satisfied: nvidia-cusolver-cu12==11.4.5.107 in /home/c/anaconda3/envs/tf/lib/python3.9/site-packages (from torch->easyocr) (11.4.5.107)\n",
      "Requirement already satisfied: nvidia-cusparse-cu12==12.1.0.106 in /home/c/anaconda3/envs/tf/lib/python3.9/site-packages (from torch->easyocr) (12.1.0.106)\n",
      "Requirement already satisfied: nvidia-nccl-cu12==2.20.5 in /home/c/anaconda3/envs/tf/lib/python3.9/site-packages (from torch->easyocr) (2.20.5)\n",
      "Requirement already satisfied: nvidia-nvtx-cu12==12.1.105 in /home/c/anaconda3/envs/tf/lib/python3.9/site-packages (from torch->easyocr) (12.1.105)\n",
      "Requirement already satisfied: triton==2.3.1 in /home/c/anaconda3/envs/tf/lib/python3.9/site-packages (from torch->easyocr) (2.3.1)\n",
      "Requirement already satisfied: nvidia-nvjitlink-cu12 in /home/c/anaconda3/envs/tf/lib/python3.9/site-packages (from nvidia-cusolver-cu12==11.4.5.107->torch->easyocr) (12.2.140)\n",
      "Requirement already satisfied: six in /home/c/anaconda3/envs/tf/lib/python3.9/site-packages (from python-bidi->easyocr) (1.16.0)\n",
      "Collecting imageio>=2.27 (from scikit-image->easyocr)\n",
      "  Downloading imageio-2.34.1-py3-none-any.whl.metadata (4.9 kB)\n",
      "Collecting tifffile>=2022.8.12 (from scikit-image->easyocr)\n",
      "  Downloading tifffile-2024.5.22-py3-none-any.whl.metadata (30 kB)\n",
      "Requirement already satisfied: packaging>=21 in /home/c/anaconda3/envs/tf/lib/python3.9/site-packages (from scikit-image->easyocr) (23.2)\n",
      "Collecting lazy_loader>=0.3 (from scikit-image->easyocr)\n",
      "  Downloading lazy_loader-0.4-py3-none-any.whl.metadata (7.6 kB)\n",
      "Requirement already satisfied: MarkupSafe>=2.0 in /home/c/anaconda3/envs/tf/lib/python3.9/site-packages (from jinja2->torch->easyocr) (2.1.5)\n",
      "Requirement already satisfied: mpmath<1.4.0,>=1.1.0 in /home/c/anaconda3/envs/tf/lib/python3.9/site-packages (from sympy->torch->easyocr) (1.3.0)\n",
      "Downloading easyocr-1.7.1-py3-none-any.whl (2.9 MB)\n",
      "\u001b[2K   \u001b[90m━━━━━━━━━━━━━━━━━━━━━━━━━━━━━━━━━━━━━━━━\u001b[0m \u001b[32m2.9/2.9 MB\u001b[0m \u001b[31m1.2 MB/s\u001b[0m eta \u001b[36m0:00:00\u001b[0m00:01\u001b[0m00:01\u001b[0m0m\n",
      "\u001b[?25hDownloading ninja-1.11.1.1-py2.py3-none-manylinux1_x86_64.manylinux_2_5_x86_64.whl (307 kB)\n",
      "\u001b[2K   \u001b[90m━━━━━━━━━━━━━━━━━━━━━━━━━━━━━━━━━━━━━━━━\u001b[0m \u001b[32m307.2/307.2 kB\u001b[0m \u001b[31m3.1 MB/s\u001b[0m eta \u001b[36m0:00:00\u001b[0ma \u001b[36m0:00:01\u001b[0m\n",
      "\u001b[?25hDownloading opencv_python_headless-4.10.0.82-cp37-abi3-manylinux_2_17_x86_64.manylinux2014_x86_64.whl (49.9 MB)\n",
      "\u001b[2K   \u001b[90m━━━━━━━━━━━━━━━━━━━━━━━━━━━━━━━━━━━━━━━━\u001b[0m \u001b[32m49.9/49.9 MB\u001b[0m \u001b[31m1.4 MB/s\u001b[0m eta \u001b[36m0:00:00\u001b[0m00:01\u001b[0m00:01\u001b[0m\n",
      "\u001b[?25hDownloading pyclipper-1.3.0.post5-cp39-cp39-manylinux_2_5_x86_64.manylinux1_x86_64.whl (674 kB)\n",
      "\u001b[2K   \u001b[90m━━━━━━━━━━━━━━━━━━━━━━━━━━━━━━━━━━━━━━━━\u001b[0m \u001b[32m674.2/674.2 kB\u001b[0m \u001b[31m1.6 MB/s\u001b[0m eta \u001b[36m0:00:00\u001b[0ma \u001b[36m0:00:01\u001b[0m\n",
      "\u001b[?25hDownloading python_bidi-0.4.2-py2.py3-none-any.whl (30 kB)\n",
      "Downloading scikit_image-0.22.0-cp39-cp39-manylinux_2_17_x86_64.manylinux2014_x86_64.whl (14.7 MB)\n",
      "\u001b[2K   \u001b[90m━━━━━━━━━━━━━━━━━━━━━━━━━━━━━━━━━━━━━━━━\u001b[0m \u001b[32m14.7/14.7 MB\u001b[0m \u001b[31m2.3 MB/s\u001b[0m eta \u001b[36m0:00:00\u001b[0m00:01\u001b[0m00:01\u001b[0m\n",
      "\u001b[?25hDownloading shapely-2.0.4-cp39-cp39-manylinux_2_17_x86_64.manylinux2014_x86_64.whl (2.5 MB)\n",
      "\u001b[2K   \u001b[90m━━━━━━━━━━━━━━━━━━━━━━━━━━━━━━━━━━━━━━━━\u001b[0m \u001b[32m2.5/2.5 MB\u001b[0m \u001b[31m2.3 MB/s\u001b[0m eta \u001b[36m0:00:00\u001b[0m00:01\u001b[0m00:01\u001b[0m\n",
      "\u001b[?25hDownloading imageio-2.34.1-py3-none-any.whl (313 kB)\n",
      "\u001b[2K   \u001b[90m━━━━━━━━━━━━━━━━━━━━━━━━━━━━━━━━━━━━━━━━\u001b[0m \u001b[32m313.5/313.5 kB\u001b[0m \u001b[31m3.6 MB/s\u001b[0m eta \u001b[36m0:00:00\u001b[0m00:01\u001b[0m00:01\u001b[0m\n",
      "\u001b[?25hDownloading lazy_loader-0.4-py3-none-any.whl (12 kB)\n",
      "Downloading tifffile-2024.5.22-py3-none-any.whl (225 kB)\n",
      "\u001b[2K   \u001b[90m━━━━━━━━━━━━━━━━━━━━━━━━━━━━━━━━━━━━━━━━\u001b[0m \u001b[32m225.5/225.5 kB\u001b[0m \u001b[31m4.2 MB/s\u001b[0m eta \u001b[36m0:00:00\u001b[0ma \u001b[36m0:00:01\u001b[0m\n",
      "\u001b[?25hInstalling collected packages: pyclipper, ninja, tifffile, Shapely, python-bidi, opencv-python-headless, lazy_loader, imageio, scikit-image, easyocr\n",
      "Successfully installed Shapely-2.0.4 easyocr-1.7.1 imageio-2.34.1 lazy_loader-0.4 ninja-1.11.1.1 opencv-python-headless-4.10.0.82 pyclipper-1.3.0.post5 python-bidi-0.4.2 scikit-image-0.22.0 tifffile-2024.5.22\n"
     ]
    }
   ],
   "source": [
    "#!pip install easyocr"
   ]
  },
  {
   "cell_type": "code",
   "execution_count": 13,
   "id": "56065530-e170-468e-9ecf-781e41be3433",
   "metadata": {},
   "outputs": [
    {
     "name": "stdout",
     "output_type": "stream",
     "text": [
      "2024-06-24 11:33:17.185835: I tensorflow/core/util/port.cc:113] oneDNN custom operations are on. You may see slightly different numerical results due to floating-point round-off errors from different computation orders. To turn them off, set the environment variable `TF_ENABLE_ONEDNN_OPTS=0`.\n",
      "2024-06-24 11:33:17.251680: E external/local_xla/xla/stream_executor/cuda/cuda_dnn.cc:9261] Unable to register cuDNN factory: Attempting to register factory for plugin cuDNN when one has already been registered\n",
      "2024-06-24 11:33:17.251746: E external/local_xla/xla/stream_executor/cuda/cuda_fft.cc:607] Unable to register cuFFT factory: Attempting to register factory for plugin cuFFT when one has already been registered\n",
      "2024-06-24 11:33:17.253529: E external/local_xla/xla/stream_executor/cuda/cuda_blas.cc:1515] Unable to register cuBLAS factory: Attempting to register factory for plugin cuBLAS when one has already been registered\n",
      "2024-06-24 11:33:17.264306: I tensorflow/core/platform/cpu_feature_guard.cc:182] This TensorFlow binary is optimized to use available CPU instructions in performance-critical operations.\n",
      "To enable the following instructions: AVX2 AVX_VNNI FMA, in other operations, rebuild TensorFlow with the appropriate compiler flags.\n",
      "2024-06-24 11:33:18.783698: W tensorflow/compiler/tf2tensorrt/utils/py_utils.cc:38] TF-TRT Warning: Could not find TensorRT\n",
      "Ultralytics YOLOv8.0.3 🚀 Python-3.9.18 torch-2.3.1+cu121 CUDA:0 (NVIDIA GeForce RTX 3060 Laptop GPU, 5938MiB)\n",
      "Fusing layers... \n",
      "Model summary: 168 layers, 3005843 parameters, 0 gradients, 8.1 GFLOPs\n",
      "WARNING ⚠️ NMS time limit 0.550s exceeded\n",
      "image 1/1 /home/c/Automatic-Number-Plate-Recognition--ANPR-/Test_Still_9.jpeg: 640x512 1 licence, 184.1ms\n",
      "Speed: 1.0ms pre-process, 184.1ms inference, 1099.2ms postprocess per image at shape (1, 3, 640, 640)\n",
      "Results saved to \u001b[1mruns/detect/train33\u001b[0m\n"
     ]
    }
   ],
   "source": [
    "!python predict_modified.py model='/weights/best.pt' source='Test_Still_9.jpeg' "
   ]
  },
  {
   "cell_type": "code",
   "execution_count": null,
   "id": "59639ad8-646f-4cc1-92c4-031b3421ba91",
   "metadata": {},
   "outputs": [],
   "source": []
  }
 ],
 "metadata": {
  "kernelspec": {
   "display_name": "tf",
   "language": "python",
   "name": "python3"
  },
  "language_info": {
   "codemirror_mode": {
    "name": "ipython",
    "version": 3
   },
   "file_extension": ".py",
   "mimetype": "text/x-python",
   "name": "python",
   "nbconvert_exporter": "python",
   "pygments_lexer": "ipython3",
   "version": "3.9.18"
  }
 },
 "nbformat": 4,
 "nbformat_minor": 5
}
